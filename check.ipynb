{
 "cells": [
  {
   "cell_type": "code",
   "execution_count": 1,
   "metadata": {},
   "outputs": [],
   "source": [
    "import os\n",
    "import cv2\n",
    "import numpy as np"
   ]
  },
  {
   "cell_type": "code",
   "execution_count": 17,
   "metadata": {},
   "outputs": [],
   "source": [
    "# 비디오 정보 확인을 위한 함수 정의\n",
    "def video_info(infilename):\n",
    "\n",
    "    cap = cv2.VideoCapture(infilename)\n",
    "\n",
    "    if not cap.isOpened():\n",
    "        print(\"could not open :\", infilename)\n",
    "        exit(0)\n",
    "\n",
    "    length = int(cap.get(cv2.CAP_PROP_FRAME_COUNT))\n",
    "    width = int(cap.get(cv2.CAP_PROP_FRAME_WIDTH))\n",
    "    height = int(cap.get(cv2.CAP_PROP_FRAME_HEIGHT))\n",
    "    fps = cap.get(cv2.CAP_PROP_FPS)\n",
    "\n",
    "    return length, (width, height), fps"
   ]
  },
  {
   "cell_type": "code",
   "execution_count": 66,
   "metadata": {},
   "outputs": [
    {
     "name": "stdout",
     "output_type": "stream",
     "text": [
      "Length of TRAIN : 610 / TEST : 153\n"
     ]
    }
   ],
   "source": [
    "# 동영상 수 확인\n",
    "from glob import glob\n",
    "file_lst_train = glob('dataset/train/TRAIN_*')\n",
    "file_lst_test = glob('dataset/test/TEST_*')\n",
    "print('Length of TRAIN : {} / TEST : {}'.format(len(file_lst_train),len(file_lst_test)))"
   ]
  },
  {
   "cell_type": "code",
   "execution_count": 67,
   "metadata": {},
   "outputs": [
    {
     "name": "stdout",
     "output_type": "stream",
     "text": [
      "TRAIN frame:  defaultdict(<class 'int'>, {30: 610})\n",
      "TRAIN size:  defaultdict(<class 'int'>, {(160, 120): 431, (360, 360): 179})\n",
      "TRAIN fps:  defaultdict(<class 'int'>, {30.0: 610})\n",
      "\n",
      "TEST frame:  defaultdict(<class 'int'>, {30: 153})\n",
      "TEST size:  defaultdict(<class 'int'>, {(160, 120): 110, (360, 360): 43})\n",
      "TEST fps:  defaultdict(<class 'int'>, {30.0: 153})\n"
     ]
    }
   ],
   "source": [
    "# 프레임 수 확인\n",
    "from collections import defaultdict\n",
    "\n",
    "# TRAIN\n",
    "frame_lst = defaultdict(int)\n",
    "size_lst = defaultdict(int)\n",
    "fps_lst = defaultdict(int)\n",
    "\n",
    "for file in file_lst_train:\n",
    "    frame, size, fps = video_info(file)\n",
    "    frame_lst[frame] += 1\n",
    "    size_lst[size] += 1\n",
    "    fps_lst[fps] += 1\n",
    "\n",
    "print('TRAIN frame: ', frame_lst)\n",
    "print('TRAIN size: ', size_lst)\n",
    "print('TRAIN fps: ', fps_lst)\n",
    "\n",
    "# TEST\n",
    "frame_lst = defaultdict(int)\n",
    "size_lst = defaultdict(int)\n",
    "fps_lst = defaultdict(int)\n",
    "\n",
    "for file in file_lst_test:\n",
    "    frame = video_info(file)\n",
    "    frame, size, fps = video_info(file)\n",
    "    frame_lst[frame] += 1\n",
    "    size_lst[size] += 1\n",
    "    fps_lst[fps] += 1\n",
    "\n",
    "print()\n",
    "print('TEST frame: ', frame_lst)\n",
    "print('TEST size: ', size_lst)\n",
    "print('TEST fps: ', fps_lst)"
   ]
  },
  {
   "cell_type": "code",
   "execution_count": 65,
   "metadata": {},
   "outputs": [
    {
     "name": "stdout",
     "output_type": "stream",
     "text": [
      "Counter({3: 133, 1: 129, 2: 121, 4: 114, 0: 113})\n"
     ]
    }
   ],
   "source": [
    "# class별 분포 확인\n",
    "import pandas as pd\n",
    "import numpy as np\n",
    "from collections import Counter\n",
    "\n",
    "# Train\n",
    "train_df = pd.read_csv('dataset/train.csv')\n",
    "train_label_lst = train_df['label'].values\n",
    "train_cnt = Counter(train_label_lst)\n",
    "\n",
    "print(train_cnt)"
   ]
  }
 ],
 "metadata": {
  "kernelspec": {
   "display_name": "cw",
   "language": "python",
   "name": "python3"
  },
  "language_info": {
   "codemirror_mode": {
    "name": "ipython",
    "version": 3
   },
   "file_extension": ".py",
   "mimetype": "text/x-python",
   "name": "python",
   "nbconvert_exporter": "python",
   "pygments_lexer": "ipython3",
   "version": "3.10.4"
  },
  "orig_nbformat": 4,
  "vscode": {
   "interpreter": {
    "hash": "e0efac74a453f1b3cbc1973895fe7b4161c1b2c34fca43c4257ad35a76cd44c3"
   }
  }
 },
 "nbformat": 4,
 "nbformat_minor": 2
}
